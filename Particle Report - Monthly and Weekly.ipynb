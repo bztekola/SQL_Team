{
 "cells": [
  {
   "cell_type": "markdown",
   "metadata": {},
   "source": [
    "# Load libraries"
   ]
  },
  {
   "cell_type": "code",
   "execution_count": 61,
   "metadata": {},
   "outputs": [
    {
     "name": "stdout",
     "output_type": "stream",
     "text": [
      "Particle Report for month of Jan 2018 - v3\n"
     ]
    }
   ],
   "source": [
    "import sys\n",
    "sys.path.insert(0, '/Users/jarad/fake_folder')\n",
    "\n",
    "from jb_libraries import *\n",
    "%matplotlib inline\n",
    "\n",
    "import datetime as dt\n",
    "\n",
    "#==========================================================================================\n",
    "\n",
    "for_all_time = 'no'\n",
    "\n",
    "if for_all_time == 'yes':\n",
    "    date_start = '2015-11-10'\n",
    "else:\n",
    "    date_start = '2018-01-01'\n",
    "    \n",
    "date_end = '2018-01-31'\n",
    "    \n",
    "pretty_date = calendar.month_abbr[int(date_end[5:7])] + ' ' + date_end[:4]    \n",
    "\n",
    "#==========================================================================================\n",
    "\n",
    "title = 'Particle Report for month of ' + pretty_date + ' - v3'\n",
    "#title = 'Particle report for all of time, from ' + date_start + ' to ' + date_end\n",
    "#title = 'Particle Report for week ending ' + date_end\n",
    "\n",
    "close_workbook = 'yes'\n",
    "\n",
    "print(title)"
   ]
  },
  {
   "cell_type": "markdown",
   "metadata": {},
   "source": [
    "# Set Particle parts"
   ]
  },
  {
   "cell_type": "code",
   "execution_count": 32,
   "metadata": {},
   "outputs": [
    {
     "name": "stdout",
     "output_type": "stream",
     "text": [
      "0 duplicated part ids\n",
      "0 duplicated sku ids\n"
     ]
    }
   ],
   "source": [
    "# these are WORKING SKUS ONLY\n",
    "\n",
    "particle_list = [3450,3451,3452,3453,3455,3454,3234,3233,2798,2725,2721,2723,2724,3051,3457,2799,3233,3234,2722]\n",
    "\n",
    "part_check = pd.read_sql(\n",
    "'''\n",
    "SELECT\n",
    "pd.part_id AS 'part id',\n",
    "pd.products_name AS 'part name',\n",
    "k.sku_mpn AS mpn,\n",
    "k.sku_id AS 'sku id'\n",
    "FROM products_description pd\n",
    "\n",
    "LEFT JOIN\n",
    "(SELECT\n",
    "part_id,\n",
    "sku_id,\n",
    "sku_mpn\n",
    "FROM skus\n",
    "WHERE sku_status = 'working') k ON pd.part_id = k.part_id\n",
    "\n",
    "WHERE pd.part_id IN '''+ str(tuple(particle_list)) +'''\n",
    "ORDER BY pd.part_id\n",
    "''', db)\n",
    "\n",
    "first_dates = pd.read_sql(\n",
    "'''\n",
    "SELECT\n",
    "MIN(DATE(o.date_purchased)) AS 'first date PN was purchased',\n",
    "op.part_id AS 'part id'\n",
    "FROM orders o\n",
    "JOIN orders_products op ON o.orders_id = op.orders_id\n",
    "WHERE op.part_id IN '''+ str(tuple(particle_list)) +'''\n",
    "GROUP BY op.part_id\n",
    "''', db)\n",
    "\n",
    "particle_parts = pd.merge(part_check,\n",
    "                         first_dates,\n",
    "                         how = 'left',\n",
    "                         on = 'part id')\n",
    "\n",
    "print('%i duplicated part ids' % np.sum(particle_parts['part id'].duplicated()))\n",
    "print('%i duplicated sku ids' % np.sum(particle_parts['sku id'].duplicated()))"
   ]
  },
  {
   "cell_type": "markdown",
   "metadata": {},
   "source": [
    "# Get Sales data"
   ]
  },
  {
   "cell_type": "code",
   "execution_count": 33,
   "metadata": {},
   "outputs": [],
   "source": [
    "otb_main = pd.read_sql(\n",
    "'''\n",
    "SELECT\n",
    "DATE(o.date_purchased) AS 'date purchased',\n",
    "otb.orders_id AS 'orders id',\n",
    "otb.sku_id AS 'sku id',\n",
    "k.part_id AS 'part id',\n",
    "IF(otb.barcode = '', 'no barcode', otb.barcode) AS barcode,\n",
    "otb.qty AS 'otb qty bought'\n",
    "FROM orders_to_barcodes otb\n",
    "JOIN orders o ON otb.orders_id = o.orders_id\n",
    "LEFT JOIN skus k ON otb.sku_id = k.sku_id\n",
    "WHERE otb.sku_id IN '''+ str(tuple(particle_parts['sku id'])) +'''\n",
    "''', db)\n",
    "\n",
    "#=============================================================================================\n",
    "\n",
    "op_main = pd.read_sql(\n",
    "'''\n",
    "SELECT\n",
    "DATE(o.date_purchased) AS 'date purchased',\n",
    "op.orders_id AS 'orders id',\n",
    "op.part_id AS 'part id',\n",
    "op.products_quantity AS 'qty bought'\n",
    "FROM orders_products op\n",
    "JOIN orders o ON op.orders_id = o.orders_id\n",
    "WHERE op.part_id IN '''+ str(tuple(particle_parts['part id'])) +'''\n",
    "''', db)\n",
    "\n",
    "op_main['qty bought'] = op_main['qty bought'].astype(int)\n",
    "\n",
    "#=============================================================================================\n",
    "\n",
    "partials_main = pd.read_sql(\n",
    "'''\n",
    "SELECT\n",
    "p1.pop_parent_id AS 'orders id',\n",
    "DATE(o.date_purchased) AS 'date purchased',\n",
    "p1.pop_partial_id AS 'partial id',\n",
    "p1.pop_part_id AS 'part id',\n",
    "p1.pop_quantity AS 'qty bought',\n",
    "os.orders_status_name AS 'order status'\n",
    "\n",
    "FROM partial_orders_products p1\n",
    "JOIN partial_shipments p2 ON p1.pop_parent_id = p2.ps_parent_id \n",
    "AND p1.pop_partial_id = p2.ps_partial_id\n",
    "JOIN orders_status os ON p2.ps_partial_status = os.orders_status_id\n",
    "JOIN orders o ON p1.pop_parent_id = o.orders_id \n",
    "\n",
    "WHERE pop_part_id IN '''+ str(tuple(particle_parts['part id'])) +'''\n",
    "''', db)"
   ]
  },
  {
   "cell_type": "code",
   "execution_count": 34,
   "metadata": {},
   "outputs": [
    {
     "name": "stdout",
     "output_type": "stream",
     "text": [
      "match!\n"
     ]
    }
   ],
   "source": [
    "otb_expand = pd.DataFrame()\n",
    "\n",
    "for index, row in otb_main.iterrows():\n",
    "    mult = row['otb qty bought']\n",
    "    inter_df = pd.DataFrame({'date purchased':[row['date purchased']] * mult,\n",
    "                            'orders id':[row['orders id']] * mult,\n",
    "                            'sku id':[row['sku id']] * mult,\n",
    "                            'part id':[row['part id']] * mult,\n",
    "                            'barcode':[row['barcode']] * mult,\n",
    "                            'otb qty bought':[1] * mult})\n",
    "    otb_expand = otb_expand.append(inter_df, ignore_index = True)\n",
    "    \n",
    "if otb_main['otb qty bought'].sum() == otb_expand['otb qty bought'].sum():\n",
    "    print('match!')\n",
    "else:\n",
    "    print('mismatch!')    "
   ]
  },
  {
   "cell_type": "code",
   "execution_count": 35,
   "metadata": {},
   "outputs": [
    {
     "name": "stdout",
     "output_type": "stream",
     "text": [
      "match!\n"
     ]
    }
   ],
   "source": [
    "op_main['partial id'] = 1\n",
    "op_main.drop(op_main[op_main['orders id'].isin(partials_main['orders id'])].index, inplace = True)\n",
    "\n",
    "op_expand = pd.DataFrame()\n",
    "\n",
    "for index, row in op_main.iterrows():\n",
    "    mult = row['qty bought']\n",
    "    inter_df = pd.DataFrame({'date purchased':[row['date purchased']] * mult,\n",
    "                            'orders id':[row['orders id']] * mult,\n",
    "                            'part id':[row['part id']] * mult,\n",
    "                            'qty bought':[1] * mult,\n",
    "                            'partial id':row['partial id'] * mult,\n",
    "                            'table':['op'] * mult,\n",
    "                            'partial id':row['partial id'] * mult})\n",
    "    op_expand = op_expand.append(inter_df, ignore_index = True)\n",
    "    \n",
    "if op_main['qty bought'].sum() == op_expand['qty bought'].sum():\n",
    "    print('match!')\n",
    "else:\n",
    "    print('mismatch!')    "
   ]
  },
  {
   "cell_type": "code",
   "execution_count": 36,
   "metadata": {},
   "outputs": [
    {
     "name": "stdout",
     "output_type": "stream",
     "text": [
      "match!\n"
     ]
    }
   ],
   "source": [
    "partials_expand = pd.DataFrame()\n",
    "\n",
    "for index, row in partials_main.iterrows():\n",
    "    mult = row['qty bought']\n",
    "    inter_df = pd.DataFrame({'date purchased':[row['date purchased']] * mult,\n",
    "                            'orders id':[row['orders id']] * mult,\n",
    "                            'part id':[row['part id']] * mult,\n",
    "                            'qty bought':[1] * mult,\n",
    "                            'partial id':row['partial id'] * mult,\n",
    "                            'table':['partials'] * mult,\n",
    "                            'partial id':row['partial id'] * mult})\n",
    "    partials_expand = partials_expand.append(inter_df, ignore_index = True)\n",
    "    \n",
    "if partials_main['qty bought'].sum() == partials_expand['qty bought'].sum():\n",
    "    print('match!')\n",
    "else:\n",
    "    print('mismatch!')    "
   ]
  },
  {
   "cell_type": "code",
   "execution_count": 37,
   "metadata": {},
   "outputs": [],
   "source": [
    "sales_expand = pd.concat([op_expand, partials_expand])"
   ]
  },
  {
   "cell_type": "code",
   "execution_count": 38,
   "metadata": {},
   "outputs": [
    {
     "name": "stdout",
     "output_type": "stream",
     "text": [
      "match!\n",
      "match!\n"
     ]
    }
   ],
   "source": [
    "otb_expand.sort_values(['orders id','part id'], inplace = True)\n",
    "otb_expand = otb_expand.set_index(otb_expand.groupby(['orders id','part id']).cumcount(), append = True)\n",
    "otb_expand.index.names = ['index','sub index']\n",
    "otb_expand.index = otb_expand.index.droplevel(0)\n",
    "otb_expand.reset_index(inplace = True)\n",
    "\n",
    "#=====================================================================================\n",
    "\n",
    "sales_expand.sort_values(['orders id','part id'], inplace = True)\n",
    "sales_expand = sales_expand.set_index(sales_expand.groupby(['orders id','part id','table','partial id']).cumcount(), append = True)\n",
    "sales_expand.index.names = ['index','sub index']\n",
    "sales_expand.index = sales_expand.index.droplevel(0)\n",
    "sales_expand.reset_index(inplace = True)\n",
    "\n",
    "#=====================================================================================\n",
    "\n",
    "main = pd.merge(sales_expand,\n",
    "                otb_expand,\n",
    "                how = 'left',\n",
    "                on = ['date purchased','orders id','part id','sub index'])\n",
    "\n",
    "#=====================================================================================\n",
    "\n",
    "main['barcode'].fillna('no barcode', inplace = True)\n",
    "main['otb qty bought'].fillna(0, inplace = True)\n",
    "\n",
    "#=====================================================================================\n",
    "\n",
    "def sku_fix(x):\n",
    "    if pd.isnull(x['sku id']):\n",
    "        sku = particle_parts['sku id'][particle_parts['part id'] == x['part id']].values[0]\n",
    "        return int(sku)\n",
    "    else:\n",
    "        return int(x['sku id'])\n",
    "    \n",
    "main['sku id'] = main.apply(sku_fix, axis = 1)\n",
    "\n",
    "#=====================================================================================\n",
    "\n",
    "if main['qty bought'].sum() == sales_expand['qty bought'].sum():\n",
    "    print('match!')\n",
    "else:\n",
    "    print('mismatch!')\n",
    "    \n",
    "#=====================================================================================    \n",
    "    \n",
    "if main['otb qty bought'].sum() == otb_main['otb qty bought'].sum():\n",
    "    print('match!')\n",
    "else:\n",
    "    print('mismatch!')\n",
    "    \n",
    "#=====================================================================================    \n",
    "    \n",
    "main.drop('sub index',1,inplace = True)\n",
    "\n",
    "#=====================================================================================    \n",
    "\n",
    "main = main.groupby(['date purchased','orders id','part id','sku id','barcode','partial id','table'], as_index = False)[['qty bought']].sum()\n",
    "main['date purchased'] = pd.to_datetime(main['date purchased'])"
   ]
  },
  {
   "cell_type": "code",
   "execution_count": 39,
   "metadata": {},
   "outputs": [
    {
     "data": {
      "text/html": [
       "<div>\n",
       "<style scoped>\n",
       "    .dataframe tbody tr th:only-of-type {\n",
       "        vertical-align: middle;\n",
       "    }\n",
       "\n",
       "    .dataframe tbody tr th {\n",
       "        vertical-align: top;\n",
       "    }\n",
       "\n",
       "    .dataframe thead th {\n",
       "        text-align: right;\n",
       "    }\n",
       "</style>\n",
       "<table border=\"1\" class=\"dataframe\">\n",
       "  <thead>\n",
       "    <tr style=\"text-align: right;\">\n",
       "      <th></th>\n",
       "      <th>date purchased</th>\n",
       "      <th>orders id</th>\n",
       "      <th>part id</th>\n",
       "      <th>sku id</th>\n",
       "      <th>barcode</th>\n",
       "      <th>partial id</th>\n",
       "      <th>table</th>\n",
       "      <th>qty bought</th>\n",
       "    </tr>\n",
       "  </thead>\n",
       "  <tbody>\n",
       "    <tr>\n",
       "      <th>0</th>\n",
       "      <td>2015-11-10</td>\n",
       "      <td>921416</td>\n",
       "      <td>2721</td>\n",
       "      <td>2973</td>\n",
       "      <td>no barcode</td>\n",
       "      <td>1</td>\n",
       "      <td>op</td>\n",
       "      <td>1</td>\n",
       "    </tr>\n",
       "    <tr>\n",
       "      <th>1</th>\n",
       "      <td>2015-11-10</td>\n",
       "      <td>921416</td>\n",
       "      <td>2725</td>\n",
       "      <td>2976</td>\n",
       "      <td>no barcode</td>\n",
       "      <td>1</td>\n",
       "      <td>op</td>\n",
       "      <td>1</td>\n",
       "    </tr>\n",
       "    <tr>\n",
       "      <th>2</th>\n",
       "      <td>2015-11-10</td>\n",
       "      <td>921419</td>\n",
       "      <td>2721</td>\n",
       "      <td>2973</td>\n",
       "      <td>no barcode</td>\n",
       "      <td>1</td>\n",
       "      <td>op</td>\n",
       "      <td>1</td>\n",
       "    </tr>\n",
       "    <tr>\n",
       "      <th>3</th>\n",
       "      <td>2015-11-10</td>\n",
       "      <td>921428</td>\n",
       "      <td>2721</td>\n",
       "      <td>2973</td>\n",
       "      <td>no barcode</td>\n",
       "      <td>1</td>\n",
       "      <td>op</td>\n",
       "      <td>1</td>\n",
       "    </tr>\n",
       "    <tr>\n",
       "      <th>4</th>\n",
       "      <td>2015-11-10</td>\n",
       "      <td>921428</td>\n",
       "      <td>2725</td>\n",
       "      <td>2976</td>\n",
       "      <td>no barcode</td>\n",
       "      <td>2</td>\n",
       "      <td>op</td>\n",
       "      <td>2</td>\n",
       "    </tr>\n",
       "  </tbody>\n",
       "</table>\n",
       "</div>"
      ],
      "text/plain": [
       "  date purchased  orders id  part id  sku id     barcode  partial id table  \\\n",
       "0     2015-11-10     921416     2721    2973  no barcode           1    op   \n",
       "1     2015-11-10     921416     2725    2976  no barcode           1    op   \n",
       "2     2015-11-10     921419     2721    2973  no barcode           1    op   \n",
       "3     2015-11-10     921428     2721    2973  no barcode           1    op   \n",
       "4     2015-11-10     921428     2725    2976  no barcode           2    op   \n",
       "\n",
       "   qty bought  \n",
       "0           1  \n",
       "1           1  \n",
       "2           1  \n",
       "3           1  \n",
       "4           2  "
      ]
     },
     "execution_count": 39,
     "metadata": {},
     "output_type": "execute_result"
    }
   ],
   "source": [
    "main.head()"
   ]
  },
  {
   "cell_type": "markdown",
   "metadata": {},
   "source": [
    "# Get other data"
   ]
  },
  {
   "cell_type": "code",
   "execution_count": 40,
   "metadata": {},
   "outputs": [],
   "source": [
    "# all skus, not just working ones!!\n",
    "\n",
    "skus = pd.read_sql(\n",
    "'''\n",
    "SELECT\n",
    "part_id AS 'part id',\n",
    "sku_id AS 'sku id',\n",
    "sku_name AS name,\n",
    "sku_mpn AS mpn\n",
    "FROM skus\n",
    "WHERE part_id IN '''+ str(tuple(particle_list)) +'''\n",
    "''', db)"
   ]
  },
  {
   "cell_type": "code",
   "execution_count": 41,
   "metadata": {},
   "outputs": [
    {
     "name": "stdout",
     "output_type": "stream",
     "text": [
      "dupe sku id count: 0\n",
      "dupe part id count: 3\n"
     ]
    }
   ],
   "source": [
    "print('dupe sku id count:', np.sum(skus['sku id'].duplicated()))\n",
    "print('dupe part id count:', np.sum(skus['part id'].duplicated()))"
   ]
  },
  {
   "cell_type": "code",
   "execution_count": 42,
   "metadata": {},
   "outputs": [],
   "source": [
    "ot_main = pd.read_sql(\n",
    "'''\n",
    "SELECT\n",
    "*\n",
    "FROM orders_total\n",
    "WHERE orders_id IN '''+ str(tuple(main['orders id'])) +'''\n",
    "''', db)"
   ]
  },
  {
   "cell_type": "code",
   "execution_count": 43,
   "metadata": {},
   "outputs": [],
   "source": [
    "ot_main.columns = ot_main.columns.str.replace('_',' ')\n",
    "ot_main['class'] = ot_main['class'].str.replace('ot_','')\n",
    "ot = ot_main.groupby(['orders id','class'])[['value']].sum().unstack(1).fillna(0)\n",
    "ot.columns = ot.columns.droplevel(0)\n",
    "ot.reset_index(inplace = True)\n",
    "\n",
    "cols = ['orders id','coupon','subtotal']\n",
    "\n",
    "ot = ot[cols]\n",
    "ot.columns = ['orders id','coupon amount','subtotal']\n",
    "\n",
    "ot['coupon %'] = ot['coupon amount']/ot['subtotal']"
   ]
  },
  {
   "cell_type": "code",
   "execution_count": 44,
   "metadata": {},
   "outputs": [],
   "source": [
    "parts = pd.read_sql(\n",
    "'''\n",
    "SELECT\n",
    "part_id AS 'part id',\n",
    "products_upc AS upc\n",
    "FROM parts\n",
    "WHERE part_id IN '''+ str(tuple(particle_list)) +'''\n",
    "''', db)"
   ]
  },
  {
   "cell_type": "code",
   "execution_count": 45,
   "metadata": {},
   "outputs": [
    {
     "data": {
      "text/plain": [
       "non reseller      4760\n",
       "reseller           445\n",
       "super reseller      22\n",
       "Name: customer type, dtype: int64"
      ]
     },
     "execution_count": 45,
     "metadata": {},
     "output_type": "execute_result"
    }
   ],
   "source": [
    "orders = pd.read_sql(\n",
    "'''\n",
    "SELECT\n",
    "DATE(o.date_purchased) AS 'date purchased',\n",
    "o.orders_id AS 'orders id',\n",
    "o.delivery_state AS 'delivery state',\n",
    "o.delivery_country AS 'delivery country', \n",
    "o.delivery_postcode AS 'delivery postcode',\n",
    "o.coupon_code AS 'coupon code', \n",
    "\n",
    "CASE\n",
    "WHEN o.orders_reseller = 0 AND o.orders_super_reseller = 0 THEN 'non reseller'\n",
    "WHEN o.orders_reseller = 1 AND o.orders_super_reseller = 0 THEN 'reseller'\n",
    "WHEN o.orders_super_reseller = 1 THEN 'super reseller'\n",
    "ELSE 'you missed one'\n",
    "END AS 'customer type',\n",
    "LOWER(os.orders_status_name) AS 'orders status'\n",
    "\n",
    "FROM orders o\n",
    "JOIN orders_status os ON o.orders_status = os.orders_status_id\n",
    "WHERE orders_id IN '''+ str(tuple(main['orders id'])) +'''\n",
    "''', db)\n",
    "\n",
    "orders['customer type'].value_counts()"
   ]
  },
  {
   "cell_type": "code",
   "execution_count": 46,
   "metadata": {},
   "outputs": [],
   "source": [
    "op = pd.read_sql(\n",
    "'''\n",
    "SELECT\n",
    "orders_id AS 'orders id',\n",
    "part_id AS 'part id',\n",
    "products_price AS 'price'\n",
    "FROM orders_products\n",
    "WHERE orders_id IN '''+ str(tuple(main['orders id'])) +'''\n",
    "AND part_id IN '''+ str(tuple(particle_list)) +'''\n",
    "''', db)"
   ]
  },
  {
   "cell_type": "code",
   "execution_count": 47,
   "metadata": {},
   "outputs": [
    {
     "name": "stdout",
     "output_type": "stream",
     "text": [
      "match!\n"
     ]
    }
   ],
   "source": [
    "together = pd.merge(main,\n",
    "                    skus,\n",
    "                    how = 'left',\n",
    "                    on = ['part id','sku id']).merge(ot,\n",
    "                                                    how = 'left',\n",
    "                                                    on = 'orders id').merge(parts,\n",
    "                                                                           how = 'left',\n",
    "                                                                           on = 'part id').merge(orders.drop('date purchased',1),\n",
    "                                                                                                how = 'left',\n",
    "                                                                                                on = 'orders id').merge(op,\n",
    "                                                                                                                        how = 'left',\n",
    "                                                                                                                        on = ['orders id','part id'])\n",
    "\n",
    "if (together['qty bought'].sum() == op_main['qty bought'].sum() + partials_main['qty bought'].sum() == main['qty bought'].sum()).all():\n",
    "    print('match!')\n",
    "else:\n",
    "    print('mismatch!')\n",
    "    print(together['qty bought'].sum(), op_main['qty bought'].sum(), main['qty bought'].sum())"
   ]
  },
  {
   "cell_type": "code",
   "execution_count": 48,
   "metadata": {},
   "outputs": [
    {
     "name": "stdout",
     "output_type": "stream",
     "text": [
      "match!\n"
     ]
    }
   ],
   "source": [
    "together = together[['part id',\n",
    "                      'sku id',\n",
    "                      'name',\n",
    "                      'mpn',\n",
    "                      'price',\n",
    "                      'orders id',\n",
    "                      'barcode',\n",
    "                      'qty bought',\n",
    "                      'subtotal',\n",
    "                      'coupon amount',\n",
    "                      'coupon %',\n",
    "                      'date purchased',\n",
    "                      'delivery state',\n",
    "                      'delivery country',\n",
    "                      'delivery postcode',\n",
    "                      'coupon code',\n",
    "                      'customer type',\n",
    "                      'upc']]\n",
    "\n",
    "together['part total after coupon'] = together['price'] * (1 - together['coupon %'])\n",
    "together['amount saved with coupon'] = together['price'] - together['part total after coupon']\n",
    "together['date purchased'] = pd.to_datetime(together['date purchased'])\n",
    "\n",
    "if (together['qty bought'].sum() == op_main['qty bought'].sum() + partials_main['qty bought'].sum() == main['qty bought'].sum()).all():\n",
    "    print('match!')\n",
    "else:\n",
    "    print('mismatch!')\n",
    "    print(together['qty bought'].sum(), op_main['qty bought'].sum(), main['qty bought'].sum())"
   ]
  },
  {
   "cell_type": "markdown",
   "metadata": {
    "collapsed": true
   },
   "source": [
    "# Get returns"
   ]
  },
  {
   "cell_type": "code",
   "execution_count": 49,
   "metadata": {},
   "outputs": [
    {
     "name": "stdout",
     "output_type": "stream",
     "text": [
      "0 dupes\n"
     ]
    }
   ],
   "source": [
    "ret1 = pd.read_sql(\n",
    "'''\n",
    "SELECT\n",
    "DATE(rq_date) AS 'date returned',\n",
    "rq_orders_id AS 'orders id',\n",
    "part_id AS 'part id',\n",
    "rq_quantity AS 'qty returned',\n",
    "'unknown' AS 'return type',\n",
    "'np.nan' AS 'qty bought',\n",
    "'np.nan' AS 'qty available',\n",
    "'unknown' AS action,\n",
    "'np.nan' AS 'amount refunded',\n",
    "'np.nan' AS 'amount credited',\n",
    "'np.nan' AS 'amount cancelled'\n",
    "FROM return_quantities\n",
    "WHERE part_id IN '''+ str(tuple(particle_parts['part id'])) +'''\n",
    "AND rq_quantity > 0\n",
    "''', db)\n",
    "\n",
    "#==========================================================================================\n",
    "\n",
    "ret1['sku id'] = ret1['part id'].map(dict(zip(particle_parts['part id'], particle_parts['sku id'])))\n",
    "ret1.replace('np.nan',np.nan,inplace = True)\n",
    "\n",
    "#==========================================================================================\n",
    "\n",
    "ret2 = pd.read_sql(\n",
    "'''\n",
    "SELECT\n",
    "DATE(timestamp) AS 'date returned',\n",
    "orders_id AS 'orders id',\n",
    "part_id AS 'part id',\n",
    "sku_id AS 'sku id',\n",
    "issue_type AS 'return type',\n",
    "qty_ordered AS 'qty bought',\n",
    "qty_available AS 'qty available',\n",
    "action,\n",
    "amount_refunded AS 'amount refunded',\n",
    "store_credit AS 'amount credited',\n",
    "amount_canceled AS 'amount cancelled'\n",
    "FROM cs_error_reports\n",
    "WHERE sku_id IN '''+ str(tuple(particle_parts['sku id'])) +'''\n",
    "OR part_id IN '''+ str(tuple(particle_parts['part id'])) +'''\n",
    "''', db)\n",
    "\n",
    "ret2['return type'] = ret2['return type'].str.replace('_',' ')\n",
    "\n",
    "#==========================================================================================\n",
    "\n",
    "returns = pd.concat([ret1, ret2])\n",
    "returns['name'] = returns['sku id'].map(dict(zip(skus['sku id'], skus['name'])))\n",
    "print('%i dupes' % np.sum(returns.duplicated()))"
   ]
  },
  {
   "cell_type": "code",
   "execution_count": 50,
   "metadata": {},
   "outputs": [
    {
     "name": "stdout",
     "output_type": "stream",
     "text": [
      "match!\n"
     ]
    }
   ],
   "source": [
    "cols = ['part id',\n",
    "       'sku id',\n",
    "       'name',\n",
    "       'orders id',\n",
    "       'date returned',\n",
    "       'return type',\n",
    "       'action',\n",
    "       'qty available',\n",
    "       'qty bought',\n",
    "       'qty returned',\n",
    "       'amount cancelled',\n",
    "       'amount credited',\n",
    "       'amount refunded']\n",
    "\n",
    "if len(returns.columns) == len(cols):\n",
    "    returns = returns[cols]\n",
    "    print('match!')\n",
    "else:\n",
    "    print('mismatch!')\n",
    "    print(set(list(returns.columns)) - set(cols))\n",
    "    \n",
    "returns['date returned'] = pd.to_datetime(returns['date returned'])    \n",
    "returns = returns[returns['date returned'].between(date_start, date_end)]\n",
    "\n",
    "returns.fillna(0, inplace = True)"
   ]
  },
  {
   "cell_type": "markdown",
   "metadata": {},
   "source": [
    "# Check"
   ]
  },
  {
   "cell_type": "code",
   "execution_count": 51,
   "metadata": {},
   "outputs": [
    {
     "name": "stdout",
     "output_type": "stream",
     "text": [
      "match!\n"
     ]
    }
   ],
   "source": [
    "op_check = pd.read_sql(\n",
    "'''\n",
    "SELECT\n",
    "orders_id AS 'orders id',\n",
    "part_id AS 'part id',\n",
    "products_quantity AS 'op qty'\n",
    "FROM orders_products\n",
    "WHERE part_id IN '''+ str(tuple(particle_list)) +'''\n",
    "''', db)\n",
    "\n",
    "if (np.sum(op_check['op qty']) == main['qty bought'].sum() == together['qty bought'].sum()).all():\n",
    "    print('match!')\n",
    "else:\n",
    "    print('mismatch!')"
   ]
  },
  {
   "cell_type": "markdown",
   "metadata": {},
   "source": [
    "# Restrict"
   ]
  },
  {
   "cell_type": "code",
   "execution_count": 52,
   "metadata": {},
   "outputs": [
    {
     "name": "stdout",
     "output_type": "stream",
     "text": [
      "match!\n"
     ]
    }
   ],
   "source": [
    "if for_all_time == 'no':\n",
    "    \n",
    "    together = together[together['date purchased'].between(date_start, date_end)]\n",
    "\n",
    "cols = ['part id',\n",
    "       'sku id',\n",
    "       'name',\n",
    "       'mpn',\n",
    "       'price',\n",
    "       'orders id',\n",
    "       'date purchased',\n",
    "       'customer type',\n",
    "       'barcode',\n",
    "       'upc',\n",
    "       'qty bought',\n",
    "       'subtotal',\n",
    "       'coupon code',\n",
    "       'coupon amount',\n",
    "       'coupon %',\n",
    "       'part total after coupon',\n",
    "       'amount saved with coupon',\n",
    "       'delivery state',\n",
    "       'delivery country',\n",
    "       'delivery postcode']\n",
    "\n",
    "if len(together.columns) == len(cols):\n",
    "    together = together[cols]\n",
    "    print('match!')\n",
    "else:\n",
    "    print('mismatch!')\n",
    "    print(set(list(together.columns)) - set(cols))"
   ]
  },
  {
   "cell_type": "markdown",
   "metadata": {
    "collapsed": true
   },
   "source": [
    "# Get stock"
   ]
  },
  {
   "cell_type": "code",
   "execution_count": 53,
   "metadata": {},
   "outputs": [],
   "source": [
    "stock_main = pd.read_sql(\n",
    "'''\n",
    "SELECT\n",
    "sku_id AS 'sku id',\n",
    "timestamp,\n",
    "DATE(timestamp) AS 'stock date',\n",
    "stl_qty_new AS 'stock'\n",
    "FROM stock_log\n",
    "WHERE sku_id IN '''+ str(tuple(particle_parts['sku id'])) +'''\n",
    "''', db)\n",
    "\n",
    "stock_main.sort_values(['sku id','timestamp'], ascending = [True,False], inplace = True)\n",
    "stock_main.drop_duplicates('sku id', keep = 'first', inplace = True)\n",
    "stock_main.drop('timestamp',1,inplace = True)"
   ]
  },
  {
   "cell_type": "code",
   "execution_count": 54,
   "metadata": {},
   "outputs": [
    {
     "name": "stdout",
     "output_type": "stream",
     "text": [
      "match!\n"
     ]
    }
   ],
   "source": [
    "os = pd.merge(orders[['date purchased','orders id','orders status','customer type']],\n",
    "              main[['orders id','qty bought','part id','sku id']],\n",
    "              how = 'right',\n",
    "              on = 'orders id')\n",
    "\n",
    "#==========================================================================================\n",
    "\n",
    "ons = os[os['orders status'].isin(['printed','pending'])].groupby(['sku id','customer type'])[['qty bought']].sum().unstack(1).fillna(0)\n",
    "ons.columns = ons.columns.droplevel(0)\n",
    "\n",
    "ls = ['non reseller','reseller','super reseller']\n",
    "\n",
    "for c in ls:\n",
    "    if c not in ons.columns:\n",
    "        ons[c] = 0        \n",
    "        \n",
    "ons.rename(columns = {'non reseller':'non reseller ONS',\n",
    "                      'reseller':'reseller ONS',\n",
    "                      'super reseller':'super reseller ONS'}, inplace = True)\n",
    "ons.reset_index(inplace = True)\n",
    "\n",
    "stock = pd.merge(stock_main,\n",
    "                ons,\n",
    "                how = 'left',\n",
    "                on = 'sku id').merge(skus[['sku id','part id','mpn','name']],\n",
    "                                    how = 'left',\n",
    "                                    on = 'sku id').merge(main[main['date purchased'].between(date_start, date_end)].groupby('sku id', as_index = False)[['qty bought']].sum(),\n",
    "                                                        how = 'left',\n",
    "                                                        on = 'sku id').fillna(0)\n",
    "stock.drop('qty bought', 1, inplace = True)\n",
    "\n",
    "stock['effective stock'] = stock['stock'] - stock[['non reseller ONS','reseller ONS','super reseller ONS']].sum(1)\n",
    "    \n",
    "#==========================================================================================    \n",
    "    \n",
    "if len(stock['sku id'].unique()) == len(main['sku id'].unique()):\n",
    "    print('match!')\n",
    "else:\n",
    "    print('mismatch!')    \n",
    "    \n",
    "cols = ['part id',\n",
    "        'sku id',\n",
    "        'name',\n",
    "        'mpn',\n",
    "        'stock',\n",
    "        'non reseller ONS',\n",
    "        'reseller ONS',\n",
    "        'super reseller ONS',\n",
    "        'effective stock']\n",
    "\n",
    "stock = stock[cols]    "
   ]
  },
  {
   "cell_type": "markdown",
   "metadata": {},
   "source": [
    "# Excel Start"
   ]
  },
  {
   "cell_type": "code",
   "execution_count": 62,
   "metadata": {},
   "outputs": [],
   "source": [
    "returns['date returned'] = [str(x) for x in returns['date returned']]\n",
    "together['date purchased'] = [str(x)[:11] for x in together['date purchased']]\n",
    "\n",
    "if close_workbook == 'yes':\n",
    "\n",
    "#    writer = pd.ExcelWriter(title + '.xlsx', engine = 'xlsxwriter')\n",
    "\n",
    "    sheets = ['Retail Returns',\n",
    "             'Retail Sales by Serial Number',\n",
    "             'Retail Sales by Qty',\n",
    "             'Stock',\n",
    "             'Distributor by Serial Number',\n",
    "             'Distributor by Qty']\n",
    "\n",
    "    workbook = xlsxwriter.Workbook(title + '.xlsx', {'nan_inf_to_errors': True})\n",
    "    \n",
    "#    workbook = writer.book\n",
    "    for sheet in sheets:\n",
    "        workbook.add_worksheet(sheet)\n",
    "\n",
    "    my_worksheets = {}\n",
    "    for worksheet in workbook.worksheets():\n",
    "        my_worksheets[worksheet.get_name()] = worksheet    \n",
    "\n",
    "    for k,v in my_worksheets.items():\n",
    "        worksheet = my_worksheets[k]\n",
    "        worksheet.write(0, 0, title, workbook.add_format({'font_size':20,\n",
    "                                                      'font_name':'Arial (Bold)'}))\n",
    "        worksheet.write(1, 0, k, workbook.add_format({'font_size':20,\n",
    "                                                      'font_name':'Arial (Bold)'}))\n",
    "\n",
    "    money = ['price','subtotal',\n",
    "             'coupon amount',\n",
    "             'part total after coupon',\n",
    "             'amount saved with coupon',\n",
    "             'amount refunded',\n",
    "             'amount credited',\n",
    "             'amount cancelled']\n",
    "    percent = ['coupon %']\n",
    "    date = ['date']    \n",
    "\n",
    "#===== Retail Returns\n",
    "#===================================================================================================================\n",
    "\n",
    "    worksheet = my_worksheets['Retail Returns']\n",
    "    if returns.empty:\n",
    "        worksheet.write(3, 0, 'There were no returns', workbook.add_format({'font_size':20,\n",
    "                                                                            'font_name':'Arial (Bold)'}))\n",
    "    else:\n",
    "        start_row = 3\n",
    "        start_col = 0\n",
    "        for c in range(len(returns.columns)):\n",
    "            worksheet.write(start_row, start_col + c, returns.columns[c].title(), workbook.add_format({'top':1,\n",
    "                                                                                   'bottom':1,\n",
    "                                                                                   'left':1,\n",
    "                                                                                   'right':1,\n",
    "                                                                                   'valign':'center',\n",
    "                                                                                   'align':'center'}))\n",
    "            for i in range(len(returns)):\n",
    "                if returns.columns[c] in money:\n",
    "                    fmt = workbook.add_format({'num_format':'$#,##0.00'})\n",
    "                else:\n",
    "                    fmt = None\n",
    "\n",
    "                worksheet.write(start_row + 1 + i, start_col + c, returns.iloc[i,c], fmt)\n",
    "                worksheet.set_column(start_col, start_col + len(returns.columns), 25)\n",
    "\n",
    "#===== Retail Sales by Serial Number     \n",
    "#===================================================================================================================\n",
    "\n",
    "    retail_sales = together.copy()\n",
    "    retail_sales = retail_sales[retail_sales['customer type'] == 'non reseller']\n",
    "\n",
    "    worksheet = my_worksheets['Retail Sales by Serial Number']\n",
    "\n",
    "    start_row = 3\n",
    "    start_col = 0   \n",
    "    for c in range(len(retail_sales.columns)):\n",
    "\n",
    "        # headers\n",
    "        worksheet.write(start_row, start_col + c, retail_sales.columns[c].title(), workbook.add_format({'top':1,\n",
    "                                                                                               'bottom':1,\n",
    "                                                                                               'left':1,\n",
    "                                                                                               'right':1,\n",
    "                                                                                               'valign':'center',\n",
    "                                                                                               'align':'center'})) \n",
    "        # set column\n",
    "        worksheet.set_column(start_col + c, start_col + c, 25)\n",
    "\n",
    "        # data with conditional format\n",
    "        for i in range(len(retail_sales)):\n",
    "\n",
    "            if retail_sales.columns[c] in money:\n",
    "                fmt = workbook.add_format({'num_format':'$#,##0.00'})\n",
    "            elif retail_sales.columns[c] in percent:\n",
    "                fmt = workbook.add_format({'num_format':'0.00%'})\n",
    "            elif retail_sales.columns[c] in date:\n",
    "                fmt = workbook.add_format({'num_format':'yyyy-mm-dd'})        \n",
    "            else:\n",
    "                fmt = None\n",
    "            worksheet.write(start_row + 1 + i, start_col + c, retail_sales.iloc[i,c], fmt) \n",
    "\n",
    "#===== Retail Sales by Qty     \n",
    "#===================================================================================================================\n",
    "\n",
    "    retail_by_qty = retail_sales.groupby(['part id','name','mpn','upc'], as_index = False)[['qty bought']].sum()\n",
    "\n",
    "    worksheet = my_worksheets['Retail Sales by Qty']\n",
    "\n",
    "    start_row = 3\n",
    "    start_col = 0   \n",
    "    for c in range(len(retail_by_qty.columns)):\n",
    "\n",
    "        # headers\n",
    "        worksheet.write(start_row, start_col + c, retail_by_qty.columns[c].title(), workbook.add_format({'top':1,\n",
    "                                                                                               'bottom':1,\n",
    "                                                                                               'left':1,\n",
    "                                                                                               'right':1,\n",
    "                                                                                               'valign':'center',\n",
    "                                                                                               'align':'center'})) \n",
    "        # set column\n",
    "        worksheet.set_column(start_col + c, start_col + c, 25)\n",
    "\n",
    "        # data with conditional format\n",
    "        for i in range(len(retail_by_qty)):\n",
    "\n",
    "            if retail_by_qty.columns[c] == 'qty bought':\n",
    "                fmt = workbook.add_format({'num_format':'#,##0'})\n",
    "            else:\n",
    "                fmt = None\n",
    "            worksheet.write(start_row + 1 + i, start_col + c, retail_by_qty.iloc[i,c], fmt) \n",
    "\n",
    "#===== Distributor Sales by Serial Number     \n",
    "#===================================================================================================================\n",
    "\n",
    "    dist_sales = together.copy()\n",
    "    dist_sales = dist_sales[dist_sales['customer type'].isin(['reseller','super reseller'])]\n",
    "\n",
    "    worksheet = my_worksheets['Distributor by Serial Number']\n",
    "\n",
    "    start_row = 3\n",
    "    start_col = 0   \n",
    "    for c in range(len(dist_sales.columns)):\n",
    "\n",
    "        # headers\n",
    "        worksheet.write(start_row, start_col + c, dist_sales.columns[c].title(), workbook.add_format({'top':1,\n",
    "                                                                                               'bottom':1,\n",
    "                                                                                               'left':1,\n",
    "                                                                                               'right':1,\n",
    "                                                                                               'valign':'center',\n",
    "                                                                                               'align':'center'})) \n",
    "        # set column\n",
    "        worksheet.set_column(start_col + c, start_col + c, 25)\n",
    "\n",
    "        # data with conditional format\n",
    "        for i in range(len(dist_sales)):\n",
    "\n",
    "            if dist_sales.columns[c] in money:\n",
    "                fmt = workbook.add_format({'num_format':'$#,##0.00'})\n",
    "            elif dist_sales.columns[c] in percent:\n",
    "                fmt = workbook.add_format({'num_format':'0.00%'})\n",
    "            elif dist_sales.columns[c] in date:\n",
    "                fmt = workbook.add_format({'num_format':'yyyy-mm-dd'})\n",
    "            else:\n",
    "                fmt = None\n",
    "            worksheet.write(start_row + 1 + i, start_col + c, dist_sales.iloc[i,c], fmt) \n",
    "\n",
    "#===== Distributor Sales by Qty     \n",
    "#===================================================================================================================\n",
    "\n",
    "    dist_by_qty = dist_sales.groupby(['part id','name','mpn','upc'], as_index = False)[['qty bought']].sum()\n",
    "\n",
    "    worksheet = my_worksheets['Distributor by Qty']\n",
    "\n",
    "    start_row = 3\n",
    "    start_col = 0   \n",
    "    for c in range(len(dist_by_qty.columns)):\n",
    "\n",
    "        # headers\n",
    "        worksheet.write(start_row, start_col + c, dist_by_qty.columns[c].title(), workbook.add_format({'top':1,\n",
    "                                                                                               'bottom':1,\n",
    "                                                                                               'left':1,\n",
    "                                                                                               'right':1,\n",
    "                                                                                               'valign':'center',\n",
    "                                                                                               'align':'center'})) \n",
    "        # set column\n",
    "        worksheet.set_column(start_col + c, start_col + c, 25)\n",
    "\n",
    "        # data with conditional format\n",
    "        for i in range(len(dist_by_qty)):\n",
    "\n",
    "            if dist_by_qty.columns[c] == 'qty bought':\n",
    "                fmt = workbook.add_format({'num_format':'#,##0'})\n",
    "            else:\n",
    "                fmt = None\n",
    "            worksheet.write(start_row + 1 + i, start_col + c, dist_by_qty.iloc[i,c], fmt)         \n",
    "\n",
    "#===== Stock\n",
    "#===================================================================================================================\n",
    "\n",
    "    worksheet = my_worksheets['Stock']\n",
    "\n",
    "    start_row = 3\n",
    "    start_col = 0   \n",
    "    for c in range(len(stock.columns)):\n",
    "\n",
    "        # headers\n",
    "        worksheet.write(start_row, start_col + c, stock.columns[c].title(), workbook.add_format({'top':1,\n",
    "                                                                                               'bottom':1,\n",
    "                                                                                               'left':1,\n",
    "                                                                                               'right':1,\n",
    "                                                                                               'valign':'center',\n",
    "                                                                                               'align':'center'})) \n",
    "        # set column\n",
    "        worksheet.set_column(start_col + c, start_col + c, 25)\n",
    "\n",
    "        # data with conditional format\n",
    "        for i in range(len(stock)):\n",
    "\n",
    "            if stock.columns[c] in ('qty bought','stock'):\n",
    "                fmt = workbook.add_format({'num_format':'#,##0'})\n",
    "            else:\n",
    "                fmt = None\n",
    "            worksheet.write(start_row + 1 + i, start_col + c, stock.iloc[i,c], fmt)   \n",
    "\n",
    "#===== Close Workbook\n",
    "#===================================================================================================================\n",
    "\n",
    "    workbook.close()"
   ]
  },
  {
   "cell_type": "code",
   "execution_count": 63,
   "metadata": {},
   "outputs": [
    {
     "name": "stdout",
     "output_type": "stream",
     "text": [
      "done\n"
     ]
    }
   ],
   "source": [
    "print('done')    "
   ]
  },
  {
   "cell_type": "code",
   "execution_count": 64,
   "metadata": {},
   "outputs": [
    {
     "data": {
      "text/plain": [
       "'Particle Report for month of Jan 2018 - v3'"
      ]
     },
     "execution_count": 64,
     "metadata": {},
     "output_type": "execute_result"
    }
   ],
   "source": [
    "title"
   ]
  },
  {
   "cell_type": "code",
   "execution_count": null,
   "metadata": {},
   "outputs": [],
   "source": []
  }
 ],
 "metadata": {
  "hide_input": false,
  "kernelspec": {
   "display_name": "Python 3",
   "language": "python",
   "name": "python3"
  },
  "language_info": {
   "codemirror_mode": {
    "name": "ipython",
    "version": 3
   },
   "file_extension": ".py",
   "mimetype": "text/x-python",
   "name": "python",
   "nbconvert_exporter": "python",
   "pygments_lexer": "ipython3",
   "version": "3.6.4"
  }
 },
 "nbformat": 4,
 "nbformat_minor": 2
}
